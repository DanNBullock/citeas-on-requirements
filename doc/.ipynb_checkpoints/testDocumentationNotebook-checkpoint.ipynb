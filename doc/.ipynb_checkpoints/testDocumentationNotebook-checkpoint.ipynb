{
 "cells": [
  {
   "cell_type": "markdown",
   "id": "b59222af",
   "metadata": {},
   "source": [
    "# Test Documentation Notebook\n",
    "\n",
    "This is a notebook to test the efficacy of various features of CI/CD on github, and to serve as a template"
   ]
  },
  {
   "cell_type": "code",
   "execution_count": 1,
   "id": "356c2d4c",
   "metadata": {},
   "outputs": [
    {
     "name": "stdout",
     "output_type": "stream",
     "text": [
      "[[0.00265236 0.61105028 0.046861  ]\n",
      " [0.33783295 0.59571235 0.96273323]\n",
      " [0.25339896 0.48535313 0.52405402]]\n"
     ]
    },
    {
     "data": {
      "text/html": [
       "<div>\n",
       "<style scoped>\n",
       "    .dataframe tbody tr th:only-of-type {\n",
       "        vertical-align: middle;\n",
       "    }\n",
       "\n",
       "    .dataframe tbody tr th {\n",
       "        vertical-align: top;\n",
       "    }\n",
       "\n",
       "    .dataframe thead th {\n",
       "        text-align: right;\n",
       "    }\n",
       "</style>\n",
       "<table border=\"1\" class=\"dataframe\">\n",
       "  <thead>\n",
       "    <tr style=\"text-align: right;\">\n",
       "      <th></th>\n",
       "      <th>0</th>\n",
       "      <th>1</th>\n",
       "      <th>2</th>\n",
       "    </tr>\n",
       "  </thead>\n",
       "  <tbody>\n",
       "    <tr>\n",
       "      <th>0</th>\n",
       "      <td>0.002652</td>\n",
       "      <td>0.611050</td>\n",
       "      <td>0.046861</td>\n",
       "    </tr>\n",
       "    <tr>\n",
       "      <th>1</th>\n",
       "      <td>0.337833</td>\n",
       "      <td>0.595712</td>\n",
       "      <td>0.962733</td>\n",
       "    </tr>\n",
       "    <tr>\n",
       "      <th>2</th>\n",
       "      <td>0.253399</td>\n",
       "      <td>0.485353</td>\n",
       "      <td>0.524054</td>\n",
       "    </tr>\n",
       "  </tbody>\n",
       "</table>\n",
       "</div>"
      ],
      "text/plain": [
       "          0         1         2\n",
       "0  0.002652  0.611050  0.046861\n",
       "1  0.337833  0.595712  0.962733\n",
       "2  0.253399  0.485353  0.524054"
      ]
     },
     "metadata": {},
     "output_type": "display_data"
    }
   ],
   "source": [
    "#import numpy\n",
    "import numpy as np\n",
    "\n",
    "#create a random 3x3 array\n",
    "demoArray=np.random.rand(3,3)\n",
    "\n",
    "#print to terminal\n",
    "print (demoArray)\n",
    "\n",
    "#import pandas\n",
    "import pandas as pd\n",
    "\n",
    "#convert the array to a pandas dataframe\n",
    "randomDF=pd.DataFrame(demoArray)\n",
    "\n",
    "#import display capability\n",
    "from IPython.display import display\n",
    "display(randomDF)"
   ]
  },
  {
   "cell_type": "code",
   "execution_count": null,
   "id": "1dcc34fe",
   "metadata": {},
   "outputs": [],
   "source": []
  }
 ],
 "metadata": {
  "kernelspec": {
   "display_name": "Python 3 (ipykernel)",
   "language": "python",
   "name": "python3"
  },
  "language_info": {
   "codemirror_mode": {
    "name": "ipython",
    "version": 3
   },
   "file_extension": ".py",
   "mimetype": "text/x-python",
   "name": "python",
   "nbconvert_exporter": "python",
   "pygments_lexer": "ipython3",
   "version": "3.9.12"
  }
 },
 "nbformat": 4,
 "nbformat_minor": 5
}
